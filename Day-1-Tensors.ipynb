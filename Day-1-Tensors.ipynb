{
 "cells": [
  {
   "cell_type": "markdown",
   "id": "60aabd07",
   "metadata": {},
   "source": [
    "# Fundamentals of Tensorflow"
   ]
  },
  {
   "cell_type": "code",
   "execution_count": 2,
   "id": "aa79b35a",
   "metadata": {},
   "outputs": [
    {
     "name": "stdout",
     "output_type": "stream",
     "text": [
      "WARNING:tensorflow:From C:\\Users\\Admin\\anaconda3\\Lib\\site-packages\\keras\\src\\losses.py:2976: The name tf.losses.sparse_softmax_cross_entropy is deprecated. Please use tf.compat.v1.losses.sparse_softmax_cross_entropy instead.\n",
      "\n"
     ]
    }
   ],
   "source": [
    "# 1. Introduction to Tensors\n",
    "\n",
    "import tensorflow as tf # importing the package"
   ]
  },
  {
   "cell_type": "code",
   "execution_count": 3,
   "id": "e3d62228",
   "metadata": {},
   "outputs": [
    {
     "name": "stdout",
     "output_type": "stream",
     "text": [
      "2.15.0\n"
     ]
    }
   ],
   "source": [
    "# checking the version of the tensorflow\n",
    "\n",
    "print(tf.__version__)"
   ]
  },
  {
   "cell_type": "code",
   "execution_count": 4,
   "id": "77305d86",
   "metadata": {},
   "outputs": [
    {
     "name": "stdout",
     "output_type": "stream",
     "text": [
      "tf.Tensor(7, shape=(), dtype=int32) \n",
      "\n",
      "tf.Tensor([1 2], shape=(2,), dtype=int32) \n",
      "\n",
      "tf.Tensor(\n",
      "[[1 2 3]\n",
      " [4 5 6]\n",
      " [7 8 9]], shape=(3, 3), dtype=int32) \n",
      "\n",
      "tf.Tensor(\n",
      "[[[1 2 3 4]\n",
      "  [3 4 5 6]]\n",
      "\n",
      " [[2 3 4 5]\n",
      "  [4 5 6 7]]], shape=(2, 2, 4), dtype=int32) \n",
      "\n"
     ]
    }
   ],
   "source": [
    "# create tensors with tf.constants\n",
    "\n",
    "scalar = tf.constant(7)\n",
    "print(scalar, \"\\n\") # the scalar is a single dimensional value\n",
    "\n",
    "vector = tf.constant([1,2]) # vector is a value which holds two dimensional data with a row and colum shape\n",
    "print(vector, \"\\n\")\n",
    "\n",
    "matrix = tf.constant([[1,2,3],[4,5,6],[7,8,9]]) # matrix is a collection which holds more rows and columns in a 2D field\n",
    "print(matrix, \"\\n\")\n",
    "\n",
    "tensor = tf.constant([[[1,2,3,4],[3,4,5,6]],[[2,3,4,5], [4,5,6,7]]]) # tensor is nothing but a collection of multidimensional arrays\n",
    "print(tensor, \"\\n\")"
   ]
  },
  {
   "cell_type": "code",
   "execution_count": 5,
   "id": "699acea8",
   "metadata": {},
   "outputs": [
    {
     "name": "stdout",
     "output_type": "stream",
     "text": [
      "scalar:  0\n",
      "vector:  1\n",
      "Matrix:  2\n",
      "Tensor:  3\n"
     ]
    }
   ],
   "source": [
    "# representing the dimensions present in the above created data collections\n",
    "\n",
    "print(\"scalar: \", scalar.ndim)\n",
    "print(\"vector: \", vector.ndim)\n",
    "print(\"Matrix: \", matrix.ndim)\n",
    "print(\"Tensor: \",tensor.ndim)"
   ]
  },
  {
   "cell_type": "code",
   "execution_count": 9,
   "id": "d876006e",
   "metadata": {},
   "outputs": [
    {
     "name": "stdout",
     "output_type": "stream",
     "text": [
      "tf.Tensor(\n",
      "[[1. 2. 3. 4.]\n",
      " [2. 3. 4. 5.]], shape=(2, 4), dtype=float16)\n"
     ]
    }
   ],
   "source": [
    "# craeting the constant with the dataypes\n",
    "# float16 is storing the integer as 16 bit float vaulues which incraeses the speed\n",
    "matrix2 = tf.constant([[1,2,3,4], [2,3,4,5]], dtype = tf.float16)\n",
    "print(matrix2)"
   ]
  },
  {
   "cell_type": "code",
   "execution_count": 13,
   "id": "da6399bc",
   "metadata": {},
   "outputs": [
    {
     "name": "stdout",
     "output_type": "stream",
     "text": [
      "<tf.Variable 'Variable:0' shape=(2,) dtype=int32, numpy=array([10,  7])>\n",
      "tf.Tensor([10  7], shape=(2,), dtype=int32)\n"
     ]
    }
   ],
   "source": [
    "# creating the tensor variable\n",
    "\n",
    "changeable_tensor = tf.Variable([10,7])\n",
    "unchangeable_tensor = tf.constant([10,7])\n",
    "\n",
    "print(changeable_tensor)\n",
    "print(unchangeable_tensor)"
   ]
  },
  {
   "cell_type": "code",
   "execution_count": 16,
   "id": "dfc6780e",
   "metadata": {},
   "outputs": [
    {
     "name": "stdout",
     "output_type": "stream",
     "text": [
      "<tf.Variable 'Variable:0' shape=(2,) dtype=int32, numpy=array([5, 7])>\n"
     ]
    }
   ],
   "source": [
    "# we can cahnge the tensor value for changeable_tensor\n",
    "\n",
    "changeable_tensor[0].assign(5)\n",
    "print(changeable_tensor)\n",
    "\n",
    "# if we try the same method for the unchangeable tensor it will produce errors"
   ]
  },
  {
   "cell_type": "code",
   "execution_count": 22,
   "id": "f4caae0d",
   "metadata": {},
   "outputs": [
    {
     "name": "stdout",
     "output_type": "stream",
     "text": [
      "tf.Tensor(\n",
      "[[-0.7565803  -0.06854702]\n",
      " [ 0.07595026 -1.2573844 ]], shape=(2, 2), dtype=float32) \n",
      "\n",
      "tf.Tensor(\n",
      "[[-0.7565803  -0.06854702]\n",
      " [ 0.07595026 -1.2573844 ]], shape=(2, 2), dtype=float32) \n",
      "\n",
      "tf.Tensor(\n",
      "[[ 1.2837414  -0.7219983   0.99582744]\n",
      " [ 2.1041193  -0.3225698   0.55631   ]\n",
      " [ 1.8820148   1.1777505   0.41097   ]], shape=(3, 3), dtype=float32) \n",
      "\n",
      "tf.Tensor(\n",
      "[[4.934 4.324 3.824]\n",
      " [2.98  4.75  2.879]\n",
      " [4.684 2.207 2.613]], shape=(3, 3), dtype=float16)\n"
     ]
    }
   ],
   "source": [
    "# creating Random tensors\n",
    "\n",
    "random_1 = tf.random.Generator.from_seed(42)\n",
    "random_1 = random_1.normal(shape = [2,2])\n",
    "\n",
    "print(random_1, \"\\n\")\n",
    "\n",
    "random_2 = tf.random.Generator.from_seed(42)\n",
    "random_2 = random_2.normal(shape = [2,2])\n",
    "\n",
    "print(random_2, \"\\n\")\n",
    "                           \n",
    "NormalTensor = tf.random.normal(shape = [3,3],\n",
    "                               mean = 0.8,\n",
    "                               stddev = 1.2,\n",
    "                               dtype = tf.float32,\n",
    "                               seed = 16)\n",
    "print(NormalTensor, \"\\n\")\n",
    "\n",
    "UniformTensor = tf.random.uniform(shape = [3,3],\n",
    "                                 minval = 2,\n",
    "                                 maxval = 5,\n",
    "                                 dtype = tf.float16,\n",
    "                                 seed = 16)\n",
    "print(UniformTensor)"
   ]
  },
  {
   "cell_type": "code",
   "execution_count": 26,
   "id": "9703e525",
   "metadata": {},
   "outputs": [
    {
     "name": "stdout",
     "output_type": "stream",
     "text": [
      "Dim:  2\n",
      "tf.Tensor(\n",
      "[[10.  7.]\n",
      " [ 2.  4.]\n",
      " [ 3.  4.]], shape=(3, 2), dtype=float16) \n",
      "\n",
      "Dim:  2\n",
      "tf.Tensor(\n",
      "[[10.  7.]\n",
      " [ 2.  4.]\n",
      " [ 3.  4.]], shape=(3, 2), dtype=float16)\n"
     ]
    }
   ],
   "source": [
    "# the neural networks first generates random weights for each nodes and then corrects the weights for getting the best weight\n",
    "\n",
    "# shuffling the order of the tensors\n",
    "# this is done to shuffle the dataset order to feed every category of the data without any ordered dataset\n",
    "\n",
    "not_shuffled = tf.constant([[10,7],[2,4],[3,4]],\n",
    "                          dtype = tf.float16)\n",
    "print(\"Dim: \",not_shuffled.ndim)\n",
    "print(not_shuffled,\"\\n\")\n",
    "\n",
    "tf.random.set_seed(42)\n",
    "shuffled = tf.random.shuffle(value = not_shuffled, \n",
    "                            seed = 42,\n",
    "                            name = \"Shuffled Tensor\")\n",
    "print(\"Dim: \",shuffled.ndim)\n",
    "print(shuffled)"
   ]
  },
  {
   "cell_type": "code",
   "execution_count": 29,
   "id": "2ef754bd",
   "metadata": {},
   "outputs": [
    {
     "name": "stdout",
     "output_type": "stream",
     "text": [
      "tf.Tensor(\n",
      "[[3.97  3.824]\n",
      " [3.75  3.29 ]\n",
      " [3.094 3.293]], shape=(3, 2), dtype=float16) \n",
      "\n",
      "tf.Tensor(\n",
      "[[3.0360072 3.276712 ]\n",
      " [3.0265808 3.2348986]\n",
      " [3.4947624 3.8939567]], shape=(3, 2), dtype=float32) \n",
      "\n",
      "tf.Tensor(\n",
      "[[3.633 3.195]\n",
      " [3.307 3.342]\n",
      " [3.729 3.094]], shape=(3, 2), dtype=float16) \n",
      "\n",
      "tf.Tensor(\n",
      "[[ 0.05670846 -0.64766216  0.3623495 ]\n",
      " [-1.9935732  -1.4619281   1.3227856 ]\n",
      " [ 4.0545444   2.6613507   2.0546505 ]], shape=(3, 3), dtype=float32) \n",
      "\n",
      "tf.Tensor(\n",
      "[[ 2.672  1.417  3.809]\n",
      " [-4.47   3.447 -2.73 ]\n",
      " [ 1.01  -1.1    2.58 ]], shape=(3, 3), dtype=float16) \n",
      "\n"
     ]
    }
   ],
   "source": [
    "# Exercise -> 1\n",
    "\n",
    "RandomTensor1 = tf.random.uniform(shape = [3,2],\n",
    "                                 minval = 3,\n",
    "                                 maxval = 4,\n",
    "                                 dtype = tf.float16,\n",
    "                                 seed = 42)\n",
    "\n",
    "RandomTensor2 = tf.random.uniform(shape = [3,2],\n",
    "                                 minval = 3,\n",
    "                                 maxval = 4,\n",
    "                                 dtype = tf.float32,\n",
    "                                 seed = 42)\n",
    "\n",
    "Random3 = tf.random.Generator.from_seed(42)\n",
    "RandomTensor3 = Random3.uniform(shape = [3,2],\n",
    "                               minval = 3,\n",
    "                               maxval = 4,\n",
    "                               dtype = tf.float16)\n",
    "\n",
    "RandomTensor4 = tf.random.normal(shape = [3,3],\n",
    "                               mean = 1.0,\n",
    "                               stddev = 2.0,\n",
    "                               dtype = tf.float32,\n",
    "                               seed = 30)\n",
    "\n",
    "Random5 = tf.random.Generator.from_seed(30)\n",
    "RandomTensor5 = Random5.normal(shape = [3,3],\n",
    "                               mean = 1.0,\n",
    "                               stddev = 2.0,\n",
    "                               dtype = tf.float16)\n",
    "\n",
    "print(RandomTensor1,\"\\n\")\n",
    "print(RandomTensor2,\"\\n\")\n",
    "print(RandomTensor3,\"\\n\")\n",
    "print(RandomTensor4,\"\\n\")\n",
    "print(RandomTensor5,\"\\n\")"
   ]
  },
  {
   "cell_type": "code",
   "execution_count": 31,
   "id": "0ec1ccfa",
   "metadata": {},
   "outputs": [
    {
     "name": "stdout",
     "output_type": "stream",
     "text": [
      "tf.Tensor(\n",
      "[[3.97  3.824]\n",
      " [3.75  3.29 ]\n",
      " [3.094 3.293]], shape=(3, 2), dtype=float16)\n",
      "tf.Tensor(\n",
      "[[3.97  3.824]\n",
      " [3.75  3.29 ]\n",
      " [3.094 3.293]], shape=(3, 2), dtype=float16)\n"
     ]
    }
   ],
   "source": [
    "# Exercise -> 2 shuffling the created Tensors\n",
    "\n",
    "tf.random.set_seed(42)\n",
    "RandomShuffled1 = tf.random.shuffle(value = RandomTensor1,\n",
    "                                   seed = 42,\n",
    "                                   name = \"RandomShuffled1\")\n",
    "\n",
    "print(RandomTensor1)\n",
    "print(RandomShuffled1)"
   ]
  },
  {
   "cell_type": "code",
   "execution_count": 32,
   "id": "0fb41de3",
   "metadata": {},
   "outputs": [
    {
     "name": "stdout",
     "output_type": "stream",
     "text": [
      "tf.Tensor(\n",
      "[[0. 0.]\n",
      " [0. 0.]], shape=(2, 2), dtype=float16)\n",
      "tf.Tensor(\n",
      "[[1 1]\n",
      " [1 1]], shape=(2, 2), dtype=int16)\n"
     ]
    }
   ],
   "source": [
    "# tensors can be run in aGPU much faster\n",
    "\n",
    "ZeroTensors = tf.zeros(shape = [2,2], dtype = tf.float16)\n",
    "OnesTensors = tf.ones(shape = [2,2], dtype = tf.int16)\n",
    "\n",
    "print(ZeroTensors)\n",
    "print(OnesTensors)"
   ]
  },
  {
   "cell_type": "code",
   "execution_count": 37,
   "id": "54f3f8b3",
   "metadata": {},
   "outputs": [
    {
     "name": "stdout",
     "output_type": "stream",
     "text": [
      "[2 3 4 5] \n",
      "\n",
      "tf.Tensor([2 3 4 5], shape=(4,), dtype=int32) n\n",
      "tf.Tensor(\n",
      "[[[2]\n",
      "  [3]]\n",
      "\n",
      " [[4]\n",
      "  [5]]], shape=(2, 2, 1), dtype=int32) \n",
      "\n"
     ]
    }
   ],
   "source": [
    "# creating a numpy array to Tensor\n",
    "\n",
    "import numpy as np # importing the numpy package\n",
    "\n",
    "NumpyArray1 = np.arange(2,6, dtype = np.int32)\n",
    "print(NumpyArray1, \"\\n\")\n",
    "\n",
    "TensorArray = tf.constant(NumpyArray1, dtype = tf.int32)\n",
    "print(TensorArray, \"n\")\n",
    "\n",
    "ChangeShape = tf.constant(NumpyArray1, shape = (2,2,1))\n",
    "print(ChangeShape, \"\\n\")"
   ]
  },
  {
   "cell_type": "code",
   "execution_count": 41,
   "id": "66c28926",
   "metadata": {},
   "outputs": [
    {
     "name": "stdout",
     "output_type": "stream",
     "text": [
      "Shape:  (2, 2, 1) \n",
      "\n",
      "Rank:  3 \n",
      "\n",
      "tf.Tensor(\n",
      "[[3]\n",
      " [5]], shape=(2, 1), dtype=int32) \n",
      "\n",
      "tf.Tensor(\n",
      "[[[4]\n",
      "  [5]]], shape=(1, 2, 1), dtype=int32) \n",
      "\n",
      "Size:  tf.Tensor(4, shape=(), dtype=int32) \n",
      "\n"
     ]
    }
   ],
   "source": [
    "# Getting information from the Tensors Tensor Attributes\n",
    "\n",
    "# 1. Shape tensor.shape\n",
    "# 2. Rank tensor.ndim\n",
    "# 3. Axis or Dimension tensor[:,1]\n",
    "# 4. Size tf.size(tensor)\n",
    "\n",
    "print(\"Shape: \",ChangeShape.shape, \"\\n\")\n",
    "print(\"Rank: \",ChangeShape.ndim, \"\\n\")\n",
    "print(ChangeShape[:,1], \"\\n\") # getting the first column axis\n",
    "print(ChangeShape[1:,], \"\\n\") # getting the row axis\n",
    "print(\"Size: \",tf.size(ChangeShape), \"\\n\") # size of the tensor -> Total number of items in the tensor"
   ]
  },
  {
   "cell_type": "code",
   "execution_count": 43,
   "id": "be081c52",
   "metadata": {},
   "outputs": [
    {
     "name": "stdout",
     "output_type": "stream",
     "text": [
      "Datatype:  <dtype: 'int32'>\n",
      "Size:  4\n"
     ]
    }
   ],
   "source": [
    "print(\"Datatype: \", ChangeShape.dtype)\n",
    "print(\"Size: \", tf.size(ChangeShape).numpy())"
   ]
  },
  {
   "cell_type": "code",
   "execution_count": 44,
   "id": "fc51ce20",
   "metadata": {},
   "outputs": [],
   "source": [
    "# Indexing and Expanding\n",
    "\n",
    "TestTensor = tf.zeros(shape = [2,3,4,5], dtype= tf.float16)"
   ]
  },
  {
   "cell_type": "code",
   "execution_count": 45,
   "id": "0d255497",
   "metadata": {},
   "outputs": [
    {
     "name": "stdout",
     "output_type": "stream",
     "text": [
      "tf.Tensor(\n",
      "[[[[0. 0.]\n",
      "   [0. 0.]]\n",
      "\n",
      "  [[0. 0.]\n",
      "   [0. 0.]]]\n",
      "\n",
      "\n",
      " [[[0. 0.]\n",
      "   [0. 0.]]\n",
      "\n",
      "  [[0. 0.]\n",
      "   [0. 0.]]]], shape=(2, 2, 2, 2), dtype=float16)\n"
     ]
    }
   ],
   "source": [
    "# get the first 2 elements\n",
    "print(TestTensor[:2,:2,:2,:2])"
   ]
  },
  {
   "cell_type": "code",
   "execution_count": 48,
   "id": "5b4bd353",
   "metadata": {},
   "outputs": [
    {
     "name": "stdout",
     "output_type": "stream",
     "text": [
      "tf.Tensor([[[[0. 0. 0. 0. 0.]]]], shape=(1, 1, 1, 5), dtype=float16)\n"
     ]
    }
   ],
   "source": [
    "# flattened Tensor\n",
    "print(TestTensor[:1,:1,:1, :])"
   ]
  },
  {
   "cell_type": "code",
   "execution_count": 53,
   "id": "e92a72b2",
   "metadata": {},
   "outputs": [
    {
     "name": "stdout",
     "output_type": "stream",
     "text": [
      "(2, 3, 4, 5, 1)\n"
     ]
    }
   ],
   "source": [
    "NewTensor = TestTensor[...,tf.newaxis]\n",
    "print(NewTensor.shape)\n",
    "\n",
    "# another way of writing the expansion of the tensor dimensions\n",
    "# print(tf.expand_dims(NewTensor, axis = 1))"
   ]
  },
  {
   "cell_type": "code",
   "execution_count": null,
   "id": "0f8bbdb7",
   "metadata": {},
   "outputs": [],
   "source": []
  },
  {
   "cell_type": "code",
   "execution_count": null,
   "id": "0a1bd2c3",
   "metadata": {},
   "outputs": [],
   "source": []
  }
 ],
 "metadata": {
  "kernelspec": {
   "display_name": "Python 3 (ipykernel)",
   "language": "python",
   "name": "python3"
  },
  "language_info": {
   "codemirror_mode": {
    "name": "ipython",
    "version": 3
   },
   "file_extension": ".py",
   "mimetype": "text/x-python",
   "name": "python",
   "nbconvert_exporter": "python",
   "pygments_lexer": "ipython3",
   "version": "3.11.5"
  }
 },
 "nbformat": 4,
 "nbformat_minor": 5
}
