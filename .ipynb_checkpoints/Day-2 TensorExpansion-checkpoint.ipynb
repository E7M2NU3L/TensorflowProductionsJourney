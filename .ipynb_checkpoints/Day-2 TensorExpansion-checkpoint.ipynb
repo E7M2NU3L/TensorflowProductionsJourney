{
 "cells": [
  {
   "cell_type": "code",
   "execution_count": 1,
   "id": "9ccdfc4f",
   "metadata": {},
   "outputs": [
    {
     "name": "stdout",
     "output_type": "stream",
     "text": [
      "WARNING:tensorflow:From C:\\Users\\Admin\\anaconda3\\Lib\\site-packages\\keras\\src\\losses.py:2976: The name tf.losses.sparse_softmax_cross_entropy is deprecated. Please use tf.compat.v1.losses.sparse_softmax_cross_entropy instead.\n",
      "\n"
     ]
    }
   ],
   "source": [
    "# importing the tensorflow\n",
    "\n",
    "import tensorflow as tf"
   ]
  },
  {
   "cell_type": "code",
   "execution_count": 2,
   "id": "238fbd8c",
   "metadata": {},
   "outputs": [],
   "source": [
    "tensor1 = tf.random.uniform(\n",
    "    shape = [3,3],\n",
    "    minval = 2,\n",
    "    maxval = 3,\n",
    "    dtype = tf.float16,\n",
    "    seed = 42\n",
    ")"
   ]
  },
  {
   "cell_type": "code",
   "execution_count": 3,
   "id": "7cd82642",
   "metadata": {},
   "outputs": [
    {
     "name": "stdout",
     "output_type": "stream",
     "text": [
      "tf.Tensor(\n",
      "[[[2.008 2.324 2.246]\n",
      "  [2.363 2.027 2.273]\n",
      "  [2.879 2.41  2.328]]], shape=(1, 3, 3), dtype=float16)\n",
      "tf.Tensor(\n",
      "[[[2.008 2.324 2.246]]\n",
      "\n",
      " [[2.363 2.027 2.273]]\n",
      "\n",
      " [[2.879 2.41  2.328]]], shape=(3, 1, 3), dtype=float16)\n"
     ]
    }
   ],
   "source": [
    "# expanding the tensor\n",
    "\n",
    "tensor_Expanded1 = tf.expand_dims(tensor1, axis = 0)\n",
    "tensor_Expanded2 = tf.expand_dims(tensor1, axis = 1)\n",
    "\n",
    "print(tensor_Expanded1)\n",
    "print(tensor_Expanded2)"
   ]
  },
  {
   "cell_type": "code",
   "execution_count": 4,
   "id": "3b46edf8",
   "metadata": {},
   "outputs": [],
   "source": [
    "# Tensor operations\n",
    "\n",
    "# Tensor Addition\n",
    "test_Tensor1 = tf.random.normal(\n",
    "    shape = [2,2],\n",
    "    mean = 2.3,\n",
    "    stddev = 3.2,\n",
    "    dtype = tf.float16,\n",
    "    seed = 42\n",
    ")\n",
    "\n",
    "test_Tensor2 = tf.random.uniform(\n",
    "    shape = [2,2],\n",
    "    minval = 2,\n",
    "    maxval = 3,\n",
    "    dtype = tf.float16,\n",
    "    seed = 42\n",
    ")\n",
    "\n",
    "# Tensor Addition\n",
    "tensor_Added = tf.math.add(test_Tensor1, test_Tensor2)\n",
    "\n",
    "# tensor subtraction\n",
    "tensor_Subtracted = tf.math.subtract(test_Tensor1, test_Tensor2)\n",
    "\n",
    "# tensor multiply\n",
    "tensor_multiplied = tf.multiply(test_Tensor1, test_Tensor2)\n",
    "\n",
    "# tensor division\n",
    "tensor_divided = tf.divide(test_Tensor1, test_Tensor2)"
   ]
  },
  {
   "cell_type": "code",
   "execution_count": 5,
   "id": "abdddc84",
   "metadata": {},
   "outputs": [
    {
     "name": "stdout",
     "output_type": "stream",
     "text": [
      "tf.Tensor(\n",
      "[[4.113 4.16 ]\n",
      " [2.418 4.633]], shape=(2, 2), dtype=float16) \n",
      "\n",
      "tf.Tensor(\n",
      "[[-1.309  -0.4404]\n",
      " [-2.145   0.125 ]], shape=(2, 2), dtype=float16) \n",
      "\n",
      "tf.Tensor(\n",
      "[[3.8   4.28 ]\n",
      " [0.312 5.363]], shape=(2, 2), dtype=float16) \n",
      "\n",
      "tf.Tensor(\n",
      "[[0.517   0.8086 ]\n",
      " [0.05994 1.056  ]], shape=(2, 2), dtype=float16) \n",
      "\n"
     ]
    }
   ],
   "source": [
    "print(tensor_Added, \"\\n\")\n",
    "print(tensor_Subtracted, \"\\n\")\n",
    "print(tensor_multiplied, \"\\n\")\n",
    "print(tensor_divided, \"\\n\")"
   ]
  },
  {
   "cell_type": "code",
   "execution_count": 10,
   "id": "0cef6dbf",
   "metadata": {},
   "outputs": [
    {
     "name": "stdout",
     "output_type": "stream",
     "text": [
      "tf.Tensor(\n",
      "[[8.05  7.418]\n",
      " [5.797 5.68 ]], shape=(2, 2), dtype=float16) \n",
      "\n",
      "tf.Tensor(\n",
      "[[8.05  7.418]\n",
      " [5.797 5.68 ]], shape=(2, 2), dtype=float16)\n"
     ]
    }
   ],
   "source": [
    "# Tensor Matrix multiplication\n",
    "\n",
    "tensor_mat_mult = tf.linalg.matmul(test_Tensor1, test_Tensor2)\n",
    "tensor_mat_mult2 = tf.matmul(test_Tensor1, test_Tensor2)\n",
    "print(tensor_mat_mult,\"\\n\")\n",
    "print(tensor_mat_mult2)"
   ]
  },
  {
   "cell_type": "code",
   "execution_count": 11,
   "id": "dfef6479",
   "metadata": {},
   "outputs": [
    {
     "name": "stdout",
     "output_type": "stream",
     "text": [
      "tf.Tensor(\n",
      "[[8.05  7.418]\n",
      " [5.797 5.68 ]], shape=(2, 2), dtype=float16)\n"
     ]
    }
   ],
   "source": [
    "# normal python matrix multiplicatio\n",
    "\n",
    "mat_mult = test_Tensor1 @ test_Tensor2\n",
    "print(mat_mult)"
   ]
  },
  {
   "cell_type": "code",
   "execution_count": 13,
   "id": "453284d2",
   "metadata": {},
   "outputs": [
    {
     "name": "stdout",
     "output_type": "stream",
     "text": [
      "tf.Tensor(\n",
      "[[8.05  5.797]\n",
      " [7.418 5.68 ]], shape=(2, 2), dtype=float16)\n"
     ]
    }
   ],
   "source": [
    "# transposing the Matrix\n",
    "\n",
    "mat_transpose = tf.transpose(mat_mult)\n",
    "print(mat_transpose)"
   ]
  },
  {
   "cell_type": "code",
   "execution_count": 16,
   "id": "93f3d6af",
   "metadata": {},
   "outputs": [
    {
     "name": "stdout",
     "output_type": "stream",
     "text": [
      "tf.Tensor(\n",
      "[[119.75  88.75]\n",
      " [ 88.75  65.9 ]], shape=(2, 2), dtype=float16)\n"
     ]
    }
   ],
   "source": [
    "# dot product\n",
    "\n",
    "dotProduct = tf.tensordot(mat_mult, mat_transpose, axes = 1)\n",
    "print(dotProduct)"
   ]
  },
  {
   "cell_type": "code",
   "execution_count": null,
   "id": "c98c0852",
   "metadata": {},
   "outputs": [],
   "source": []
  }
 ],
 "metadata": {
  "kernelspec": {
   "display_name": "Python 3 (ipykernel)",
   "language": "python",
   "name": "python3"
  },
  "language_info": {
   "codemirror_mode": {
    "name": "ipython",
    "version": 3
   },
   "file_extension": ".py",
   "mimetype": "text/x-python",
   "name": "python",
   "nbconvert_exporter": "python",
   "pygments_lexer": "ipython3",
   "version": "3.11.5"
  }
 },
 "nbformat": 4,
 "nbformat_minor": 5
}
