{
 "cells": [
  {
   "cell_type": "markdown",
   "id": "03845fb4",
   "metadata": {},
   "source": [
    "# Day-3 Tensor Operations"
   ]
  },
  {
   "cell_type": "code",
   "execution_count": 1,
   "id": "233451c5",
   "metadata": {},
   "outputs": [
    {
     "name": "stdout",
     "output_type": "stream",
     "text": [
      "WARNING:tensorflow:From C:\\Users\\Admin\\anaconda3\\Lib\\site-packages\\keras\\src\\losses.py:2976: The name tf.losses.sparse_softmax_cross_entropy is deprecated. Please use tf.compat.v1.losses.sparse_softmax_cross_entropy instead.\n",
      "\n"
     ]
    }
   ],
   "source": [
    "# importing the library\n",
    "\n",
    "import tensorflow as tf"
   ]
  },
  {
   "cell_type": "code",
   "execution_count": 2,
   "id": "e57a7bd0",
   "metadata": {},
   "outputs": [
    {
     "name": "stdout",
     "output_type": "stream",
     "text": [
      "tf.Tensor([3 2 4 5], shape=(4,), dtype=int32)\n"
     ]
    }
   ],
   "source": [
    "# creating the tensor\n",
    "\n",
    "tens_1 = tf.constant([3,2,4,5])\n",
    "print(tens_1)"
   ]
  },
  {
   "cell_type": "code",
   "execution_count": 3,
   "id": "c22ac2c2",
   "metadata": {},
   "outputs": [
    {
     "name": "stdout",
     "output_type": "stream",
     "text": [
      "tf.Tensor([3. 2. 4. 5.], shape=(4,), dtype=float16)\n"
     ]
    }
   ],
   "source": [
    "# change the datatype\n",
    "\n",
    "tens_1_float = tf.cast(tens_1, tf.float16)\n",
    "print(tens_1_float)"
   ]
  },
  {
   "cell_type": "code",
   "execution_count": 6,
   "id": "07dd0b35",
   "metadata": {},
   "outputs": [
    {
     "name": "stdout",
     "output_type": "stream",
     "text": [
      "tf.Tensor(\n",
      "[[ 1.045   1.531  -0.2988  2.084  -1.039  -0.8184  6.105   6.695  -2.95\n",
      "   1.162 ]], shape=(1, 10), dtype=float16)\n"
     ]
    }
   ],
   "source": [
    "# aggregation of tensors\n",
    "\n",
    "random_tens_1 = tf.random.normal(\n",
    "        shape = [1,10],\n",
    "        mean = 2.0,\n",
    "        stddev = 3.4,\n",
    "        dtype = tf.float16,\n",
    "        name = \"normal tensor\",\n",
    "        seed = 42\n",
    "    )\n",
    "\n",
    "print(random_tens_1)"
   ]
  },
  {
   "cell_type": "code",
   "execution_count": 7,
   "id": "53b3e75f",
   "metadata": {},
   "outputs": [
    {
     "name": "stdout",
     "output_type": "stream",
     "text": [
      "tf.Tensor([[1.045  1.531  0.2988 2.084  1.039  0.8184 6.105  6.695  2.95   1.162 ]], shape=(1, 10), dtype=float16)\n"
     ]
    }
   ],
   "source": [
    "# abs\n",
    "\n",
    "abs_r_tens_1 = tf.abs(random_tens_1)\n",
    "print(abs_r_tens_1)"
   ]
  },
  {
   "cell_type": "code",
   "execution_count": 8,
   "id": "962a12e1",
   "metadata": {},
   "outputs": [
    {
     "name": "stdout",
     "output_type": "stream",
     "text": [
      "tf.Tensor(0.2988, shape=(), dtype=float16)\n",
      "tf.Tensor(6.695, shape=(), dtype=float16)\n",
      "tf.Tensor(2.373, shape=(), dtype=float16)\n",
      "tf.Tensor(23.73, shape=(), dtype=float16)\n"
     ]
    }
   ],
   "source": [
    "# min, max, mean, sum\n",
    "\n",
    "min_val = tf.reduce_min(abs_r_tens_1)\n",
    "print(min_val)\n",
    "\n",
    "max_val = tf.reduce_max(abs_r_tens_1)\n",
    "print(max_val)\n",
    "\n",
    "mean_val = tf.reduce_mean(abs_r_tens_1)\n",
    "print(mean_val)\n",
    "\n",
    "sum_val = tf.reduce_sum(abs_r_tens_1)\n",
    "print(sum_val)"
   ]
  },
  {
   "cell_type": "code",
   "execution_count": 14,
   "id": "1ff9d387",
   "metadata": {},
   "outputs": [
    {
     "name": "stdout",
     "output_type": "stream",
     "text": [
      "tf.Tensor([0. 0. 0. 0. 0. 0. 0. 0. 0. 0.], shape=(10,), dtype=float16)\n",
      "tf.Tensor(4.547, shape=(), dtype=float16)\n",
      "tf.Tensor(2.133, shape=(), dtype=float16)\n"
     ]
    }
   ],
   "source": [
    "import tensorflow_probability as tfp\n",
    "\n",
    "var_val = tfp.stats.variance(abs_r_tens_1)\n",
    "print(var_val)\n",
    "\n",
    "var_val2 = tf.math.reduce_variance(abs_r_tens_1)\n",
    "print(var_val2)\n",
    "\n",
    "std_dev_val = tf.math.reduce_std(abs_r_tens_1)\n",
    "print(std_dev_val)"
   ]
  },
  {
   "cell_type": "code",
   "execution_count": 16,
   "id": "6f75802f",
   "metadata": {},
   "outputs": [
    {
     "name": "stdout",
     "output_type": "stream",
     "text": [
      "tf.Tensor(15, shape=(), dtype=int64)  :  tf.Tensor(3.941, shape=(), dtype=float16)\n",
      "tf.Tensor(17, shape=(), dtype=int64)  :  tf.Tensor(2.057, shape=(), dtype=float16)\n"
     ]
    }
   ],
   "source": [
    "# positional max and minimum\n",
    "\n",
    "random_t = tf.random.uniform(\n",
    "    shape = [35],\n",
    "    minval = 2,\n",
    "    maxval = 4,\n",
    "    dtype = tf.float16,\n",
    "    name = \"random uniform\",\n",
    "    seed = 42\n",
    ")\n",
    "\n",
    "# argmax\n",
    "position_max = tf.argmax(random_t)\n",
    "val_max = tf.reduce_max(random_t)\n",
    "print(position_max, \" : \", val_max)\n",
    "\n",
    "# argmin\n",
    "position_min = tf.argmin(random_t)\n",
    "val_min = tf.reduce_min(random_t)\n",
    "print(position_min, \" : \", val_min)"
   ]
  },
  {
   "cell_type": "code",
   "execution_count": 19,
   "id": "3032c157",
   "metadata": {},
   "outputs": [
    {
     "name": "stdout",
     "output_type": "stream",
     "text": [
      "tf.Tensor(\n",
      "[[[[3 3 4 3 3 4 3 3 4 4 3 3 4 4 3 3 3 4 3 4 4 4 3 3 4 3 3 4 3 4 3 3 3 3\n",
      "    3 4 3 4 4 3 4 4 3 3 3 3 3 3 4 3]]]], shape=(1, 1, 1, 50), dtype=int32)\n",
      "tf.Tensor(\n",
      "[3 3 4 3 3 4 3 3 4 4 3 3 4 4 3 3 3 4 3 4 4 4 3 3 4 3 3 4 3 4 3 3 3 3 3 4 3\n",
      " 4 4 3 4 4 3 3 3 3 3 3 4 3], shape=(50,), dtype=int32)\n"
     ]
    }
   ],
   "source": [
    "# squeezing a tensors \n",
    "\n",
    "tensor_1 = tf.random.uniform(\n",
    "    shape = [50],\n",
    "    minval = 3,\n",
    "    maxval = 5,\n",
    "    dtype = tf.int32\n",
    ")\n",
    "\n",
    "var_1 = tf.constant(tensor_1, shape = [1,1,1,50])\n",
    "print(var_1)\n",
    "\n",
    "sq_var_1 = tf.squeeze(var_1)\n",
    "print(sq_var_1)"
   ]
  },
  {
   "cell_type": "code",
   "execution_count": 21,
   "id": "e02b90d8",
   "metadata": {},
   "outputs": [
    {
     "name": "stdout",
     "output_type": "stream",
     "text": [
      "tf.Tensor(\n",
      "[[1. 0. 0. 0. 0. 0.]\n",
      " [0. 1. 0. 0. 0. 0.]\n",
      " [0. 0. 0. 0. 1. 0.]\n",
      " [0. 0. 0. 1. 0. 0.]\n",
      " [0. 0. 0. 0. 0. 1.]\n",
      " [0. 0. 1. 0. 0. 0.]], shape=(6, 6), dtype=float32)\n"
     ]
    }
   ],
   "source": [
    "# one Hot Encoding the Tensors\n",
    "\n",
    "some_list = [0,1,4,3,5,2]\n",
    "depth = 6\n",
    "\n",
    "one_hot_val = tf.one_hot(some_list, depth)\n",
    "print(one_hot_val)"
   ]
  },
  {
   "cell_type": "code",
   "execution_count": 22,
   "id": "6f13c1da",
   "metadata": {},
   "outputs": [
    {
     "name": "stdout",
     "output_type": "stream",
     "text": [
      "tf.Tensor(\n",
      "[[b'Present' b'Absent' b'Absent' b'Absent' b'Absent' b'Absent']\n",
      " [b'Absent' b'Present' b'Absent' b'Absent' b'Absent' b'Absent']\n",
      " [b'Absent' b'Absent' b'Absent' b'Absent' b'Present' b'Absent']\n",
      " [b'Absent' b'Absent' b'Absent' b'Present' b'Absent' b'Absent']\n",
      " [b'Absent' b'Absent' b'Absent' b'Absent' b'Absent' b'Present']\n",
      " [b'Absent' b'Absent' b'Present' b'Absent' b'Absent' b'Absent']], shape=(6, 6), dtype=string)\n"
     ]
    }
   ],
   "source": [
    "one_h_2 = tf.one_hot(some_list, depth, on_value = \"Present\", off_value = \"Absent\")\n",
    "print(one_h_2)"
   ]
  },
  {
   "cell_type": "code",
   "execution_count": 28,
   "id": "576b5a5b",
   "metadata": {},
   "outputs": [
    {
     "name": "stdout",
     "output_type": "stream",
     "text": [
      "tf.Tensor(\n",
      "[11.3    4.676  4.984 10.97   4.965  6.34  12.93   5.285  6.465  5.223\n",
      "  6.586  7.758  7.19   5.098  9.23  15.53  10.96   4.23  10.336  8.49\n",
      "  9.68   9.43  11.26  11.98  10.21   8.664  8.695  8.85  10.87  12.195\n",
      "  5.285  4.26  14.28  12.1   14.55 ], shape=(35,), dtype=float16)\n",
      "tf.Tensor(\n",
      "[1.212  0.771  0.803  1.197  0.8013 0.9233 1.279  0.8325 0.933  0.8267\n",
      " 0.9424 1.024  0.9863 0.8145 1.111  1.371  1.197  0.721  1.168  1.069\n",
      " 1.135  1.122  1.211  1.241  1.162  1.079  1.081  1.09   1.193  1.251\n",
      " 0.8325 0.725  1.329  1.247  1.339 ], shape=(35,), dtype=float16)\n",
      "tf.Tensor(\n",
      "[28.83   8.69   9.32  27.45   9.29  12.4   36.44   9.96  12.72   9.83\n",
      " 13.016 16.2   14.61   9.56  20.84  51.5   27.4    7.82  24.9   18.44\n",
      " 22.45  21.55  28.66  31.84  24.42  18.98  19.1   19.58  27.03  32.84\n",
      "  9.96   7.883 43.78  32.4   45.34 ], shape=(35,), dtype=float16)\n",
      "tf.Tensor(\n",
      "[1.833 1.471 1.494 1.82  1.493 1.587 1.896 1.517 1.595 1.512 1.602 1.669\n",
      " 1.638 1.503 1.743 1.985 1.819 1.435 1.793 1.707 1.764 1.752 1.832 1.86\n",
      " 1.787 1.716 1.718 1.725 1.815 1.869 1.517 1.437 1.944 1.865 1.953], shape=(35,), dtype=float16)\n"
     ]
    }
   ],
   "source": [
    "# square, log , square root\n",
    "\n",
    "squre_1 = tf.square(random_t)\n",
    "print(squre_1)\n",
    "\n",
    "log_1 = tf.math.log(random_t)\n",
    "print(log_1)\n",
    "\n",
    "exp_1 = tf.math.exp(random_t)\n",
    "print(exp_1)\n",
    "\n",
    "square_root1 = tf.sqrt(random_t)\n",
    "print(square_root1)"
   ]
  },
  {
   "cell_type": "code",
   "execution_count": null,
   "id": "3ff67915",
   "metadata": {},
   "outputs": [],
   "source": []
  }
 ],
 "metadata": {
  "kernelspec": {
   "display_name": "Python 3 (ipykernel)",
   "language": "python",
   "name": "python3"
  },
  "language_info": {
   "codemirror_mode": {
    "name": "ipython",
    "version": 3
   },
   "file_extension": ".py",
   "mimetype": "text/x-python",
   "name": "python",
   "nbconvert_exporter": "python",
   "pygments_lexer": "ipython3",
   "version": "3.11.5"
  }
 },
 "nbformat": 4,
 "nbformat_minor": 5
}
