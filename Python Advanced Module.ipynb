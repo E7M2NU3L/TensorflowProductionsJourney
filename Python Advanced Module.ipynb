{
 "cells": [
  {
   "cell_type": "markdown",
   "id": "15564099",
   "metadata": {},
   "source": [
    "# Variable Length and Recursive Function"
   ]
  },
  {
   "cell_type": "code",
   "execution_count": 3,
   "id": "6c86d75a",
   "metadata": {},
   "outputs": [],
   "source": [
    "x = 10\n",
    "def displayX():\n",
    "    x = 20\n",
    "    print(x)"
   ]
  },
  {
   "cell_type": "code",
   "execution_count": 4,
   "id": "cdd35e64",
   "metadata": {},
   "outputs": [
    {
     "name": "stdout",
     "output_type": "stream",
     "text": [
      "20\n"
     ]
    }
   ],
   "source": [
    "displayX()"
   ]
  },
  {
   "cell_type": "code",
   "execution_count": 5,
   "id": "6c561169",
   "metadata": {},
   "outputs": [
    {
     "name": "stdout",
     "output_type": "stream",
     "text": [
      "20\n",
      "5\n"
     ]
    }
   ],
   "source": [
    "x = 20\n",
    "def displayer():\n",
    "    x = 5\n",
    "    print(x)\n",
    "    \n",
    "print(x)\n",
    "displayer()"
   ]
  },
  {
   "cell_type": "code",
   "execution_count": 7,
   "id": "0d0a4f5c",
   "metadata": {},
   "outputs": [
    {
     "name": "stdout",
     "output_type": "stream",
     "text": [
      "emmanuel\n",
      "Emmanuel A\n",
      "Emmanuel A\n"
     ]
    }
   ],
   "source": [
    "# global keyword\n",
    "name = \"emmanuel\"\n",
    "def displayG():\n",
    "    global name\n",
    "    name = \"Emmanuel A\"\n",
    "    print(name)\n",
    "    \n",
    "print(name)# before calling the function\n",
    "displayG() # call\n",
    "print(name) # after calling the function"
   ]
  },
  {
   "cell_type": "code",
   "execution_count": 8,
   "id": "8727cae3",
   "metadata": {},
   "outputs": [],
   "source": [
    "# Recursive function -> A function which gets called again and again on it's own\n",
    "\n",
    "def factorial(n):\n",
    "    if n == 1:\n",
    "        return 1\n",
    "    elif n>1:\n",
    "        return n * factorial(n-1)\n",
    "    else:\n",
    "        return \"Give a nteger Input\""
   ]
  },
  {
   "cell_type": "code",
   "execution_count": 11,
   "id": "5d144d86",
   "metadata": {},
   "outputs": [
    {
     "data": {
      "text/plain": [
       "720"
      ]
     },
     "execution_count": 11,
     "metadata": {},
     "output_type": "execute_result"
    }
   ],
   "source": [
    "factorial(6)"
   ]
  },
  {
   "cell_type": "markdown",
   "id": "67fb0a77",
   "metadata": {},
   "source": [
    "# Lambda Function"
   ]
  },
  {
   "cell_type": "code",
   "execution_count": 23,
   "id": "1ea10ea4",
   "metadata": {},
   "outputs": [],
   "source": [
    "# lambda arguments: expression\n",
    "\n",
    "Power = lambda x,y: x**y"
   ]
  },
  {
   "cell_type": "code",
   "execution_count": 24,
   "id": "7c043570",
   "metadata": {},
   "outputs": [
    {
     "data": {
      "text/plain": [
       "4"
      ]
     },
     "execution_count": 24,
     "metadata": {},
     "output_type": "execute_result"
    }
   ],
   "source": [
    "Power(2,2)"
   ]
  },
  {
   "cell_type": "code",
   "execution_count": 25,
   "id": "0a31ccfa",
   "metadata": {},
   "outputs": [],
   "source": [
    "def power(n):\n",
    "    return lambda a: a**n"
   ]
  },
  {
   "cell_type": "code",
   "execution_count": 26,
   "id": "36d4bf1f",
   "metadata": {},
   "outputs": [],
   "source": [
    "square = power(2)\n",
    "cube = power(3)\n",
    "fourth = power(4)"
   ]
  },
  {
   "cell_type": "code",
   "execution_count": 28,
   "id": "a9f00e60",
   "metadata": {},
   "outputs": [
    {
     "name": "stdout",
     "output_type": "stream",
     "text": [
      "16\n"
     ]
    }
   ],
   "source": [
    "print(square(4))"
   ]
  },
  {
   "cell_type": "markdown",
   "id": "7106ceed",
   "metadata": {},
   "source": [
    "# Decorators and Generators"
   ]
  },
  {
   "cell_type": "code",
   "execution_count": 29,
   "id": "c2740a74",
   "metadata": {},
   "outputs": [],
   "source": [
    "# decorators wraps another function over itself\n",
    "\n",
    "def my_decorator(func):\n",
    "    def wrapper():\n",
    "        print(\"Something is happening before the function is called\")\n",
    "        func()\n",
    "        print(\"Something is happening after the function is called\")\n",
    "    return wrapper"
   ]
  },
  {
   "cell_type": "code",
   "execution_count": 34,
   "id": "104d2fe4",
   "metadata": {},
   "outputs": [],
   "source": [
    "def say_hello():\n",
    "    print(\"Hello\")"
   ]
  },
  {
   "cell_type": "code",
   "execution_count": 35,
   "id": "9a4f376d",
   "metadata": {},
   "outputs": [],
   "source": [
    "decorated_variable = my_decorator(say_hello)"
   ]
  },
  {
   "cell_type": "code",
   "execution_count": 36,
   "id": "38e36fe4",
   "metadata": {},
   "outputs": [
    {
     "name": "stdout",
     "output_type": "stream",
     "text": [
      "Something is happening before the function is called\n",
      "Hello\n",
      "Something is happening after the function is called\n"
     ]
    }
   ],
   "source": [
    "decorated_variable()"
   ]
  },
  {
   "cell_type": "code",
   "execution_count": 37,
   "id": "4a3f607a",
   "metadata": {},
   "outputs": [],
   "source": [
    "@my_decorator\n",
    "def sayGM():\n",
    "    print(\"Good Morning\")"
   ]
  },
  {
   "cell_type": "code",
   "execution_count": 38,
   "id": "b599947e",
   "metadata": {},
   "outputs": [
    {
     "name": "stdout",
     "output_type": "stream",
     "text": [
      "Something is happening before the function is called\n",
      "Good Morning\n",
      "Something is happening after the function is called\n"
     ]
    }
   ],
   "source": [
    "sayGM()"
   ]
  },
  {
   "cell_type": "code",
   "execution_count": 39,
   "id": "554c04db",
   "metadata": {},
   "outputs": [],
   "source": [
    "# generators -> the functions which pauses the execution and remembers the pause portion\n",
    "\n",
    "def gener():\n",
    "    yield 1\n",
    "    yield 2\n",
    "    yield 3"
   ]
  },
  {
   "cell_type": "code",
   "execution_count": 43,
   "id": "dd5eabd5",
   "metadata": {},
   "outputs": [
    {
     "name": "stdout",
     "output_type": "stream",
     "text": [
      "1\n",
      "1  is a number\n",
      "++++++++++++++++\n",
      "2\n",
      "2  is a number\n",
      "++++++++++++++++\n",
      "3\n",
      "3  is a number\n",
      "++++++++++++++++\n"
     ]
    }
   ],
   "source": [
    "for x in gener():\n",
    "    print(x)\n",
    "    print(x , \" is a number\")\n",
    "    print(\"++++++++++++++++\")"
   ]
  },
  {
   "cell_type": "code",
   "execution_count": 46,
   "id": "0e6c55ce",
   "metadata": {},
   "outputs": [
    {
     "name": "stdout",
     "output_type": "stream",
     "text": [
      "1\n",
      "2\n",
      "3\n"
     ]
    }
   ],
   "source": [
    "val = gener()\n",
    "\n",
    "while True:\n",
    "    try:\n",
    "        print(next(val))\n",
    "    except:\n",
    "        break"
   ]
  },
  {
   "cell_type": "code",
   "execution_count": 48,
   "id": "831edb2c",
   "metadata": {},
   "outputs": [],
   "source": [
    "def fibonacci(limit):\n",
    "    a,b = 0,1\n",
    "    while a < limit:\n",
    "        yield a\n",
    "        a,b = b, a+b"
   ]
  },
  {
   "cell_type": "code",
   "execution_count": 49,
   "id": "e9fc787d",
   "metadata": {},
   "outputs": [
    {
     "name": "stdout",
     "output_type": "stream",
     "text": [
      "0\n",
      "1\n",
      "1\n",
      "2\n",
      "3\n",
      "5\n"
     ]
    }
   ],
   "source": [
    "x = fibonacci(8)\n",
    "\n",
    "while True:\n",
    "    try:\n",
    "        print(next(x))\n",
    "    except:\n",
    "        break"
   ]
  },
  {
   "cell_type": "code",
   "execution_count": 50,
   "id": "de6fa583",
   "metadata": {},
   "outputs": [],
   "source": [
    "import asyncio"
   ]
  },
  {
   "cell_type": "code",
   "execution_count": 66,
   "id": "7f257db7",
   "metadata": {},
   "outputs": [],
   "source": [
    "async def async_example(name):\n",
    "    print(\"hello {0}\".format(name))\n",
    "    asyncio.sleep(2)\n",
    "    print(\"hello {0}\".format(name))\n",
    "\n",
    "async def main():\n",
    "    tasks = [async_example(\"Alice\"), async_example(\"Emmanuel\")]\n",
    "    await asyncio.gather(*tasks)"
   ]
  },
  {
   "cell_type": "code",
   "execution_count": null,
   "id": "d9ffbe7d",
   "metadata": {},
   "outputs": [],
   "source": []
  },
  {
   "cell_type": "code",
   "execution_count": null,
   "id": "0d1e4337",
   "metadata": {},
   "outputs": [],
   "source": []
  },
  {
   "cell_type": "code",
   "execution_count": null,
   "id": "e48baee0",
   "metadata": {},
   "outputs": [],
   "source": []
  }
 ],
 "metadata": {
  "kernelspec": {
   "display_name": "Python 3 (ipykernel)",
   "language": "python",
   "name": "python3"
  },
  "language_info": {
   "codemirror_mode": {
    "name": "ipython",
    "version": 3
   },
   "file_extension": ".py",
   "mimetype": "text/x-python",
   "name": "python",
   "nbconvert_exporter": "python",
   "pygments_lexer": "ipython3",
   "version": "3.11.5"
  }
 },
 "nbformat": 4,
 "nbformat_minor": 5
}
